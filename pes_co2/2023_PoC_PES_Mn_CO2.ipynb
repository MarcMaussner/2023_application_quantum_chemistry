{
 "cells": [
  {
   "cell_type": "markdown",
   "id": "ab6ece11",
   "metadata": {},
   "source": [
    "# Calculate PES for CO2 (exact and vqe)\n",
    "https://qiskit.org/ecosystem/nature/howtos/vqe_ucc.html"
   ]
  },
  {
   "cell_type": "code",
   "execution_count": 1,
   "id": "484b48a8",
   "metadata": {},
   "outputs": [],
   "source": [
    "#imports\n",
    "from qiskit_nature.second_q.drivers import PySCFDriver\n",
    "from qiskit_nature.second_q.mappers import JordanWignerMapper\n",
    "from qiskit_nature.second_q.mappers import ParityMapper\n",
    "from qiskit_nature.second_q.mappers import QubitConverter\n",
    "\n",
    "from qiskit_nature.second_q.circuit.library import UCCSD, HartreeFock\n",
    "from qiskit_nature.second_q.algorithms.initial_points import HFInitialPoint\n",
    "from qiskit_nature.second_q.transformers import FreezeCoreTransformer\n",
    "from qiskit_nature.second_q.transformers import ActiveSpaceTransformer\n",
    "from qiskit_nature.second_q.formats import MoleculeInfo\n",
    "\n",
    "import numpy as np\n",
    "import matplotlib.pyplot as plt\n",
    "from qiskit.algorithms.optimizers import SLSQP\n",
    "from qiskit.algorithms.minimum_eigensolvers import VQE\n",
    "#from qiskit.primitives import Estimator\n",
    "\n",
    "from qiskit_aer.primitives import Estimator\n",
    "\n",
    "from qiskit.algorithms.minimum_eigensolvers import NumPyMinimumEigensolver\n",
    "from qiskit_nature.second_q.algorithms import GroundStateEigensolver\n",
    "\n",
    "from qiskit.opflow import TwoQubitReduction\n",
    "\n",
    "from qiskit_nature import settings\n",
    "settings.use_pauli_sum_op = False\n",
    "\n",
    "from qiskit.utils import algorithm_globals\n",
    "\n",
    "from qiskit.circuit.library import EfficientSU2\n",
    "\n",
    "from qiskit import BasicAer"
   ]
  },
  {
   "cell_type": "code",
   "execution_count": 2,
   "id": "9e3caef5",
   "metadata": {},
   "outputs": [],
   "source": [
    "# create mapper\n",
    "mapper = JordanWignerMapper()"
   ]
  },
  {
   "cell_type": "code",
   "execution_count": 3,
   "id": "d4a0f58e",
   "metadata": {},
   "outputs": [
    {
     "name": "stdout",
     "output_type": "stream",
     "text": [
      "Mn 0.0 0.0 0.0; O 0.735 0.0, 0.0 C 1.9049999999999998 0.0 0.0 O 3.0749999999999997 0.0 0.0\n",
      "Particles and orbitals for MnCO2:  (17, 14)   23\n"
     ]
    }
   ],
   "source": [
    "# create initial problem to determine parameters for ansatz -> unoptimized\n",
    "dist = 0.735\n",
    "\n",
    "#[\"Mn\", [0.0, 0.0, 0.0]],\n",
    "#[\"O\", [dist, 0.0, 0.0]],\n",
    "#[\"C\", [dist + 1.17, 0.0, 0.0]],   \n",
    "#[\"O\", [dist + 2.34, 0.0, 0.0]]\n",
    "\n",
    "atom_str = \"Mn 0.0 0.0 0.0; O {0} 0.0, 0.0 C {1} 0.0 0.0 O {2} 0.0 0.0\".format(dist, dist+1.17, dist+2.34)\n",
    "\n",
    "print(atom_str)\n",
    "driver = PySCFDriver(atom=atom_str, charge=2, spin=3, basis=\"sto-3g\")\n",
    "problem = driver.run()\n",
    "\n",
    "num_spatial_orbitals = problem.num_spatial_orbitals\n",
    "num_particles = problem.num_particles\n",
    "\n",
    "print(\"Particles and orbitals for MnCO2: \", num_particles, \" \", num_spatial_orbitals)"
   ]
  },
  {
   "cell_type": "code",
   "execution_count": 4,
   "id": "53d6fcdd",
   "metadata": {},
   "outputs": [
    {
     "ename": "KeyboardInterrupt",
     "evalue": "",
     "output_type": "error",
     "traceback": [
      "\u001b[0;31m---------------------------------------------------------------------------\u001b[0m",
      "\u001b[0;31mKeyboardInterrupt\u001b[0m                         Traceback (most recent call last)",
      "Cell \u001b[0;32mIn[4], line 6\u001b[0m\n\u001b[1;32m      1\u001b[0m \u001b[38;5;66;03m#create ansatz initial\u001b[39;00m\n\u001b[1;32m      2\u001b[0m ansatz_init \u001b[38;5;241m=\u001b[39m UCCSD(\n\u001b[1;32m      3\u001b[0m     num_spatial_orbitals,\n\u001b[1;32m      4\u001b[0m     num_particles,\n\u001b[1;32m      5\u001b[0m     mapper,\n\u001b[0;32m----> 6\u001b[0m     initial_state\u001b[38;5;241m=\u001b[39m\u001b[43mHartreeFock\u001b[49m\u001b[43m(\u001b[49m\n\u001b[1;32m      7\u001b[0m \u001b[43m        \u001b[49m\u001b[43mnum_spatial_orbitals\u001b[49m\u001b[43m,\u001b[49m\n\u001b[1;32m      8\u001b[0m \u001b[43m        \u001b[49m\u001b[43mnum_particles\u001b[49m\u001b[43m,\u001b[49m\n\u001b[1;32m      9\u001b[0m \u001b[43m        \u001b[49m\u001b[43mmapper\u001b[49m\u001b[43m,\u001b[49m\n\u001b[1;32m     10\u001b[0m \u001b[43m    \u001b[49m\u001b[43m)\u001b[49m,\n\u001b[1;32m     11\u001b[0m )\n",
      "File \u001b[0;32m~/.local/lib/python3.10/site-packages/qiskit_nature/deprecation.py:297\u001b[0m, in \u001b[0;36mdeprecate_arguments.<locals>.decorator.<locals>.wrapper\u001b[0;34m(*args, **kwargs)\u001b[0m\n\u001b[1;32m    287\u001b[0m \u001b[38;5;28;01mif\u001b[39;00m kwargs:\n\u001b[1;32m    288\u001b[0m     _rename_kwargs(\n\u001b[1;32m    289\u001b[0m         version,\n\u001b[1;32m    290\u001b[0m         func\u001b[38;5;241m.\u001b[39m\u001b[38;5;18m__qualname__\u001b[39m,\n\u001b[0;32m   (...)\u001b[0m\n\u001b[1;32m    295\u001b[0m         stack_level,\n\u001b[1;32m    296\u001b[0m     )\n\u001b[0;32m--> 297\u001b[0m \u001b[38;5;28;01mreturn\u001b[39;00m \u001b[43mfunc\u001b[49m\u001b[43m(\u001b[49m\u001b[38;5;241;43m*\u001b[39;49m\u001b[43margs\u001b[49m\u001b[43m,\u001b[49m\u001b[43m \u001b[49m\u001b[38;5;241;43m*\u001b[39;49m\u001b[38;5;241;43m*\u001b[39;49m\u001b[43mkwargs\u001b[49m\u001b[43m)\u001b[49m\n",
      "File \u001b[0;32m~/.local/lib/python3.10/site-packages/qiskit_nature/second_q/circuit/library/initial_states/hartree_fock.py:77\u001b[0m, in \u001b[0;36mHartreeFock.__init__\u001b[0;34m(self, num_spatial_orbitals, num_particles, qubit_mapper, qubit_converter)\u001b[0m\n\u001b[1;32m     74\u001b[0m \u001b[38;5;28mself\u001b[39m\u001b[38;5;241m.\u001b[39m_num_particles \u001b[38;5;241m=\u001b[39m num_particles\n\u001b[1;32m     75\u001b[0m \u001b[38;5;28mself\u001b[39m\u001b[38;5;241m.\u001b[39m_bitstr: \u001b[38;5;28mlist\u001b[39m[\u001b[38;5;28mbool\u001b[39m] \u001b[38;5;241m|\u001b[39m \u001b[38;5;28;01mNone\u001b[39;00m \u001b[38;5;241m=\u001b[39m \u001b[38;5;28;01mNone\u001b[39;00m\n\u001b[0;32m---> 77\u001b[0m \u001b[38;5;28;43mself\u001b[39;49m\u001b[38;5;241;43m.\u001b[39;49m\u001b[43m_reset_register\u001b[49m\u001b[43m(\u001b[49m\u001b[43m)\u001b[49m\n",
      "File \u001b[0;32m~/.local/lib/python3.10/site-packages/qiskit_nature/second_q/circuit/library/initial_states/hartree_fock.py:217\u001b[0m, in \u001b[0;36mHartreeFock._reset_register\u001b[0;34m(self)\u001b[0m\n\u001b[1;32m    215\u001b[0m \u001b[38;5;28;01mwith\u001b[39;00m warnings\u001b[38;5;241m.\u001b[39mcatch_warnings():\n\u001b[1;32m    216\u001b[0m     warnings\u001b[38;5;241m.\u001b[39msimplefilter(\u001b[38;5;124m\"\u001b[39m\u001b[38;5;124mignore\u001b[39m\u001b[38;5;124m\"\u001b[39m, category\u001b[38;5;241m=\u001b[39m\u001b[38;5;167;01mDeprecationWarning\u001b[39;00m)\n\u001b[0;32m--> 217\u001b[0m     \u001b[38;5;28mself\u001b[39m\u001b[38;5;241m.\u001b[39m_bitstr \u001b[38;5;241m=\u001b[39m \u001b[43mhartree_fock_bitstring_mapped\u001b[49m\u001b[43m(\u001b[49m\n\u001b[1;32m    218\u001b[0m \u001b[43m        \u001b[49m\u001b[38;5;28;43mself\u001b[39;49m\u001b[38;5;241;43m.\u001b[39;49m\u001b[43mnum_spatial_orbitals\u001b[49m\u001b[43m,\u001b[49m\n\u001b[1;32m    219\u001b[0m \u001b[43m        \u001b[49m\u001b[38;5;28;43mself\u001b[39;49m\u001b[38;5;241;43m.\u001b[39;49m\u001b[43mnum_particles\u001b[49m\u001b[43m,\u001b[49m\n\u001b[1;32m    220\u001b[0m \u001b[43m        \u001b[49m\u001b[38;5;28;43mself\u001b[39;49m\u001b[38;5;241;43m.\u001b[39;49m\u001b[43mqubit_mapper\u001b[49m\u001b[43m,\u001b[49m\n\u001b[1;32m    221\u001b[0m \u001b[43m        \u001b[49m\u001b[43mmatch_convert\u001b[49m\u001b[38;5;241;43m=\u001b[39;49m\u001b[38;5;28;43;01mTrue\u001b[39;49;00m\u001b[43m,\u001b[49m\n\u001b[1;32m    222\u001b[0m \u001b[43m    \u001b[49m\u001b[43m)\u001b[49m\n\u001b[1;32m    223\u001b[0m \u001b[38;5;28mself\u001b[39m\u001b[38;5;241m.\u001b[39mqregs \u001b[38;5;241m=\u001b[39m [QuantumRegister(\u001b[38;5;28mlen\u001b[39m(\u001b[38;5;28mself\u001b[39m\u001b[38;5;241m.\u001b[39m_bitstr), name\u001b[38;5;241m=\u001b[39m\u001b[38;5;124m\"\u001b[39m\u001b[38;5;124mq\u001b[39m\u001b[38;5;124m\"\u001b[39m)]\n",
      "File \u001b[0;32m~/.local/lib/python3.10/site-packages/qiskit_nature/deprecation.py:297\u001b[0m, in \u001b[0;36mdeprecate_arguments.<locals>.decorator.<locals>.wrapper\u001b[0;34m(*args, **kwargs)\u001b[0m\n\u001b[1;32m    287\u001b[0m \u001b[38;5;28;01mif\u001b[39;00m kwargs:\n\u001b[1;32m    288\u001b[0m     _rename_kwargs(\n\u001b[1;32m    289\u001b[0m         version,\n\u001b[1;32m    290\u001b[0m         func\u001b[38;5;241m.\u001b[39m\u001b[38;5;18m__qualname__\u001b[39m,\n\u001b[0;32m   (...)\u001b[0m\n\u001b[1;32m    295\u001b[0m         stack_level,\n\u001b[1;32m    296\u001b[0m     )\n\u001b[0;32m--> 297\u001b[0m \u001b[38;5;28;01mreturn\u001b[39;00m \u001b[43mfunc\u001b[49m\u001b[43m(\u001b[49m\u001b[38;5;241;43m*\u001b[39;49m\u001b[43margs\u001b[49m\u001b[43m,\u001b[49m\u001b[43m \u001b[49m\u001b[38;5;241;43m*\u001b[39;49m\u001b[38;5;241;43m*\u001b[39;49m\u001b[43mkwargs\u001b[49m\u001b[43m)\u001b[49m\n",
      "File \u001b[0;32m~/.local/lib/python3.10/site-packages/qiskit_nature/deprecation.py:297\u001b[0m, in \u001b[0;36mdeprecate_arguments.<locals>.decorator.<locals>.wrapper\u001b[0;34m(*args, **kwargs)\u001b[0m\n\u001b[1;32m    287\u001b[0m \u001b[38;5;28;01mif\u001b[39;00m kwargs:\n\u001b[1;32m    288\u001b[0m     _rename_kwargs(\n\u001b[1;32m    289\u001b[0m         version,\n\u001b[1;32m    290\u001b[0m         func\u001b[38;5;241m.\u001b[39m\u001b[38;5;18m__qualname__\u001b[39m,\n\u001b[0;32m   (...)\u001b[0m\n\u001b[1;32m    295\u001b[0m         stack_level,\n\u001b[1;32m    296\u001b[0m     )\n\u001b[0;32m--> 297\u001b[0m \u001b[38;5;28;01mreturn\u001b[39;00m \u001b[43mfunc\u001b[49m\u001b[43m(\u001b[49m\u001b[38;5;241;43m*\u001b[39;49m\u001b[43margs\u001b[49m\u001b[43m,\u001b[49m\u001b[43m \u001b[49m\u001b[38;5;241;43m*\u001b[39;49m\u001b[38;5;241;43m*\u001b[39;49m\u001b[43mkwargs\u001b[49m\u001b[43m)\u001b[49m\n",
      "File \u001b[0;32m~/.local/lib/python3.10/site-packages/qiskit_nature/second_q/circuit/library/initial_states/hartree_fock.py:309\u001b[0m, in \u001b[0;36mhartree_fock_bitstring_mapped\u001b[0;34m(num_spatial_orbitals, num_particles, qubit_mapper, qubit_converter, match_convert)\u001b[0m\n\u001b[1;32m    307\u001b[0m     qubit_op \u001b[38;5;241m=\u001b[39m qubit_mapper\u001b[38;5;241m.\u001b[39mtaper_clifford(qubit_op, check_commutes\u001b[38;5;241m=\u001b[39m\u001b[38;5;28;01mFalse\u001b[39;00m)\n\u001b[1;32m    308\u001b[0m \u001b[38;5;28;01melse\u001b[39;00m:\n\u001b[0;32m--> 309\u001b[0m     qubit_op \u001b[38;5;241m=\u001b[39m \u001b[43mqubit_mapper\u001b[49m\u001b[38;5;241;43m.\u001b[39;49m\u001b[43mmap\u001b[49m\u001b[43m(\u001b[49m\u001b[43mbitstr_op\u001b[49m\u001b[43m)\u001b[49m\n\u001b[1;32m    311\u001b[0m \u001b[38;5;28;01mif\u001b[39;00m \u001b[38;5;28misinstance\u001b[39m(qubit_op, PauliSumOp):\n\u001b[1;32m    312\u001b[0m     qubit_op \u001b[38;5;241m=\u001b[39m qubit_op\u001b[38;5;241m.\u001b[39mprimitive\n",
      "File \u001b[0;32m~/.local/lib/python3.10/site-packages/qiskit_nature/second_q/mappers/fermionic_mapper.py:34\u001b[0m, in \u001b[0;36mFermionicMapper.map\u001b[0;34m(self, second_q_ops, register_length)\u001b[0m\n\u001b[1;32m     28\u001b[0m \u001b[38;5;28;01mdef\u001b[39;00m \u001b[38;5;21mmap\u001b[39m(\n\u001b[1;32m     29\u001b[0m     \u001b[38;5;28mself\u001b[39m,\n\u001b[1;32m     30\u001b[0m     second_q_ops: FermionicOp \u001b[38;5;241m|\u001b[39m ListOrDictType[FermionicOp],\n\u001b[1;32m     31\u001b[0m     \u001b[38;5;241m*\u001b[39m,\n\u001b[1;32m     32\u001b[0m     register_length: \u001b[38;5;28mint\u001b[39m \u001b[38;5;241m|\u001b[39m \u001b[38;5;28;01mNone\u001b[39;00m \u001b[38;5;241m=\u001b[39m \u001b[38;5;28;01mNone\u001b[39;00m,\n\u001b[1;32m     33\u001b[0m ) \u001b[38;5;241m-\u001b[39m\u001b[38;5;241m>\u001b[39m SparsePauliOp \u001b[38;5;241m|\u001b[39m PauliSumOp \u001b[38;5;241m|\u001b[39m ListOrDictType[SparsePauliOp \u001b[38;5;241m|\u001b[39m PauliSumOp]:\n\u001b[0;32m---> 34\u001b[0m     \u001b[38;5;28;01mreturn\u001b[39;00m \u001b[38;5;28;43msuper\u001b[39;49m\u001b[43m(\u001b[49m\u001b[43m)\u001b[49m\u001b[38;5;241;43m.\u001b[39;49m\u001b[43mmap\u001b[49m\u001b[43m(\u001b[49m\u001b[43msecond_q_ops\u001b[49m\u001b[43m,\u001b[49m\u001b[43m \u001b[49m\u001b[43mregister_length\u001b[49m\u001b[38;5;241;43m=\u001b[39;49m\u001b[43mregister_length\u001b[49m\u001b[43m)\u001b[49m\n",
      "File \u001b[0;32m~/.local/lib/python3.10/site-packages/qiskit_nature/second_q/mappers/qubit_mapper.py:188\u001b[0m, in \u001b[0;36mQubitMapper.map\u001b[0;34m(self, second_q_ops, register_length)\u001b[0m\n\u001b[1;32m    186\u001b[0m qubit_ops: _ListOrDict \u001b[38;5;241m=\u001b[39m _ListOrDict()\n\u001b[1;32m    187\u001b[0m \u001b[38;5;28;01mfor\u001b[39;00m name, second_q_op \u001b[38;5;129;01min\u001b[39;00m \u001b[38;5;28miter\u001b[39m(wrapped_second_q_ops):\n\u001b[0;32m--> 188\u001b[0m     qubit_ops[name] \u001b[38;5;241m=\u001b[39m \u001b[38;5;28;43mself\u001b[39;49m\u001b[38;5;241;43m.\u001b[39;49m\u001b[43m_map_single\u001b[49m\u001b[43m(\u001b[49m\u001b[43msecond_q_op\u001b[49m\u001b[43m,\u001b[49m\u001b[43m \u001b[49m\u001b[43mregister_length\u001b[49m\u001b[38;5;241;43m=\u001b[39;49m\u001b[43mregister_length\u001b[49m\u001b[43m)\u001b[49m\n\u001b[1;32m    190\u001b[0m returned_ops \u001b[38;5;241m=\u001b[39m qubit_ops\u001b[38;5;241m.\u001b[39munwrap(wrapped_type)\n\u001b[1;32m    191\u001b[0m \u001b[38;5;66;03m# Note the output of the mapping will never be None for standard mappers other than the\u001b[39;00m\n\u001b[1;32m    192\u001b[0m \u001b[38;5;66;03m# TaperedQubitMapper.\u001b[39;00m\n",
      "File \u001b[0;32m~/.local/lib/python3.10/site-packages/qiskit_nature/second_q/mappers/qubit_mapper.py:162\u001b[0m, in \u001b[0;36mQubitMapper._map_single\u001b[0;34m(self, second_q_op, register_length)\u001b[0m\n\u001b[1;32m    146\u001b[0m \u001b[38;5;28;01mdef\u001b[39;00m \u001b[38;5;21m_map_single\u001b[39m(\n\u001b[1;32m    147\u001b[0m     \u001b[38;5;28mself\u001b[39m, second_q_op: SparseLabelOp, \u001b[38;5;241m*\u001b[39m, register_length: \u001b[38;5;28mint\u001b[39m \u001b[38;5;241m|\u001b[39m \u001b[38;5;28;01mNone\u001b[39;00m \u001b[38;5;241m=\u001b[39m \u001b[38;5;28;01mNone\u001b[39;00m\n\u001b[1;32m    148\u001b[0m ) \u001b[38;5;241m-\u001b[39m\u001b[38;5;241m>\u001b[39m SparsePauliOp \u001b[38;5;241m|\u001b[39m PauliSumOp:\n\u001b[1;32m    149\u001b[0m \u001b[38;5;250m    \u001b[39m\u001b[38;5;124;03m\"\"\"Maps a :class:`~qiskit_nature.second_q.operators.SparseLabelOp`\u001b[39;00m\n\u001b[1;32m    150\u001b[0m \u001b[38;5;124;03m    to a ``PauliSumOp`` or ``SparsePauliOp`` (depending on\u001b[39;00m\n\u001b[1;32m    151\u001b[0m \u001b[38;5;124;03m    :attr:`~qiskit_nature.settings.use_pauli_sum_op`).\u001b[39;00m\n\u001b[0;32m   (...)\u001b[0m\n\u001b[1;32m    160\u001b[0m \u001b[38;5;124;03m        The qubit operator corresponding to the problem-Hamiltonian in the qubit space.\u001b[39;00m\n\u001b[1;32m    161\u001b[0m \u001b[38;5;124;03m    \"\"\"\u001b[39;00m\n\u001b[0;32m--> 162\u001b[0m     \u001b[38;5;28;01mreturn\u001b[39;00m \u001b[38;5;28;43mself\u001b[39;49m\u001b[38;5;241;43m.\u001b[39;49m\u001b[43mmode_based_mapping\u001b[49m\u001b[43m(\u001b[49m\u001b[43msecond_q_op\u001b[49m\u001b[43m,\u001b[49m\u001b[43m \u001b[49m\u001b[43mregister_length\u001b[49m\u001b[38;5;241;43m=\u001b[39;49m\u001b[43mregister_length\u001b[49m\u001b[43m)\u001b[49m\n",
      "File \u001b[0;32m~/.local/lib/python3.10/site-packages/qiskit_nature/deprecation.py:297\u001b[0m, in \u001b[0;36mdeprecate_arguments.<locals>.decorator.<locals>.wrapper\u001b[0;34m(*args, **kwargs)\u001b[0m\n\u001b[1;32m    287\u001b[0m \u001b[38;5;28;01mif\u001b[39;00m kwargs:\n\u001b[1;32m    288\u001b[0m     _rename_kwargs(\n\u001b[1;32m    289\u001b[0m         version,\n\u001b[1;32m    290\u001b[0m         func\u001b[38;5;241m.\u001b[39m\u001b[38;5;18m__qualname__\u001b[39m,\n\u001b[0;32m   (...)\u001b[0m\n\u001b[1;32m    295\u001b[0m         stack_level,\n\u001b[1;32m    296\u001b[0m     )\n\u001b[0;32m--> 297\u001b[0m \u001b[38;5;28;01mreturn\u001b[39;00m \u001b[43mfunc\u001b[49m\u001b[43m(\u001b[49m\u001b[38;5;241;43m*\u001b[39;49m\u001b[43margs\u001b[49m\u001b[43m,\u001b[49m\u001b[43m \u001b[49m\u001b[38;5;241;43m*\u001b[39;49m\u001b[38;5;241;43m*\u001b[39;49m\u001b[43mkwargs\u001b[49m\u001b[43m)\u001b[49m\n",
      "File \u001b[0;32m~/.local/lib/python3.10/site-packages/qiskit_nature/second_q/mappers/qubit_mapper.py:298\u001b[0m, in \u001b[0;36mQubitMapper.mode_based_mapping\u001b[0;34m(cls, second_q_op, nmodes, register_length)\u001b[0m\n\u001b[1;32m    296\u001b[0m position \u001b[38;5;241m=\u001b[39m \u001b[38;5;28mint\u001b[39m(term[\u001b[38;5;241m1\u001b[39m])\n\u001b[1;32m    297\u001b[0m \u001b[38;5;28;01mif\u001b[39;00m char \u001b[38;5;241m==\u001b[39m \u001b[38;5;124m\"\u001b[39m\u001b[38;5;124m+\u001b[39m\u001b[38;5;124m\"\u001b[39m:\n\u001b[0;32m--> 298\u001b[0m     ret_op \u001b[38;5;241m=\u001b[39m \u001b[43mret_op\u001b[49m\u001b[38;5;241;43m.\u001b[39;49m\u001b[43mcompose\u001b[49m\u001b[43m(\u001b[49m\u001b[43mtimes_creation_op\u001b[49m\u001b[43m[\u001b[49m\u001b[43mposition\u001b[49m\u001b[43m]\u001b[49m\u001b[43m,\u001b[49m\u001b[43m \u001b[49m\u001b[43mfront\u001b[49m\u001b[38;5;241;43m=\u001b[39;49m\u001b[38;5;28;43;01mTrue\u001b[39;49;00m\u001b[43m)\u001b[49m\n\u001b[1;32m    299\u001b[0m \u001b[38;5;28;01melif\u001b[39;00m char \u001b[38;5;241m==\u001b[39m \u001b[38;5;124m\"\u001b[39m\u001b[38;5;124m-\u001b[39m\u001b[38;5;124m\"\u001b[39m:\n\u001b[1;32m    300\u001b[0m     ret_op \u001b[38;5;241m=\u001b[39m ret_op\u001b[38;5;241m.\u001b[39mcompose(times_annihilation_op[position], front\u001b[38;5;241m=\u001b[39m\u001b[38;5;28;01mTrue\u001b[39;00m)\n",
      "File \u001b[0;32m~/anaconda3/envs/book_chemistry/lib/python3.10/site-packages/qiskit/quantum_info/operators/symplectic/sparse_pauli_op.py:354\u001b[0m, in \u001b[0;36mSparsePauliOp.compose\u001b[0;34m(self, other, qargs, front)\u001b[0m\n\u001b[1;32m    350\u001b[0m \u001b[38;5;66;03m# note: the following is a faster code equivalent to\u001b[39;00m\n\u001b[1;32m    351\u001b[0m \u001b[38;5;66;03m# `coeffs = np.kron(self.coeffs, other.coeffs)`\u001b[39;00m\n\u001b[1;32m    352\u001b[0m \u001b[38;5;66;03m# since `self.coeffs` and `other.coeffs` are both 1d arrays.\u001b[39;00m\n\u001b[1;32m    353\u001b[0m coeffs \u001b[38;5;241m=\u001b[39m np\u001b[38;5;241m.\u001b[39mmultiply\u001b[38;5;241m.\u001b[39mouter(\u001b[38;5;28mself\u001b[39m\u001b[38;5;241m.\u001b[39mcoeffs, other\u001b[38;5;241m.\u001b[39mcoeffs)\u001b[38;5;241m.\u001b[39mravel()\n\u001b[0;32m--> 354\u001b[0m \u001b[38;5;28;01mreturn\u001b[39;00m \u001b[43mSparsePauliOp\u001b[49m\u001b[43m(\u001b[49m\u001b[43mpauli_list\u001b[49m\u001b[43m,\u001b[49m\u001b[43m \u001b[49m\u001b[43mcoeffs\u001b[49m\u001b[43m,\u001b[49m\u001b[43m \u001b[49m\u001b[43mcopy\u001b[49m\u001b[38;5;241;43m=\u001b[39;49m\u001b[38;5;28;43;01mFalse\u001b[39;49;00m\u001b[43m)\u001b[49m\n",
      "File \u001b[0;32m~/anaconda3/envs/book_chemistry/lib/python3.10/site-packages/qiskit/quantum_info/operators/symplectic/sparse_pauli_op.py:153\u001b[0m, in \u001b[0;36mSparsePauliOp.__init__\u001b[0;34m(self, data, coeffs, ignore_pauli_phase, copy)\u001b[0m\n\u001b[1;32m    150\u001b[0m \u001b[38;5;28;01melse\u001b[39;00m:\n\u001b[1;32m    151\u001b[0m     \u001b[38;5;66;03m# move the phase of `pauli_list` to `self._coeffs`\u001b[39;00m\n\u001b[1;32m    152\u001b[0m     phase \u001b[38;5;241m=\u001b[39m pauli_list\u001b[38;5;241m.\u001b[39m_phase\n\u001b[0;32m--> 153\u001b[0m     count_y \u001b[38;5;241m=\u001b[39m \u001b[43mpauli_list\u001b[49m\u001b[38;5;241;43m.\u001b[39;49m\u001b[43m_count_y\u001b[49m\u001b[43m(\u001b[49m\u001b[43m)\u001b[49m\n\u001b[1;32m    154\u001b[0m     \u001b[38;5;28mself\u001b[39m\u001b[38;5;241m.\u001b[39m_coeffs \u001b[38;5;241m=\u001b[39m np\u001b[38;5;241m.\u001b[39masarray((\u001b[38;5;241m-\u001b[39m\u001b[38;5;241m1\u001b[39mj) \u001b[38;5;241m*\u001b[39m\u001b[38;5;241m*\u001b[39m (phase \u001b[38;5;241m-\u001b[39m count_y) \u001b[38;5;241m*\u001b[39m coeffs, dtype\u001b[38;5;241m=\u001b[39mcoeffs\u001b[38;5;241m.\u001b[39mdtype)\n\u001b[1;32m    155\u001b[0m     pauli_list\u001b[38;5;241m.\u001b[39m_phase \u001b[38;5;241m=\u001b[39m np\u001b[38;5;241m.\u001b[39mmod(count_y, \u001b[38;5;241m4\u001b[39m)\n",
      "File \u001b[0;32m~/anaconda3/envs/book_chemistry/lib/python3.10/site-packages/qiskit/quantum_info/operators/symplectic/base_pauli.py:358\u001b[0m, in \u001b[0;36mBasePauli._count_y\u001b[0;34m(self, dtype)\u001b[0m\n\u001b[1;32m    356\u001b[0m \u001b[38;5;28;01mdef\u001b[39;00m \u001b[38;5;21m_count_y\u001b[39m(\u001b[38;5;28mself\u001b[39m, dtype\u001b[38;5;241m=\u001b[39m\u001b[38;5;28;01mNone\u001b[39;00m):\n\u001b[1;32m    357\u001b[0m \u001b[38;5;250m    \u001b[39m\u001b[38;5;124;03m\"\"\"Count the number of I Paulis\"\"\"\u001b[39;00m\n\u001b[0;32m--> 358\u001b[0m     \u001b[38;5;28;01mreturn\u001b[39;00m \u001b[43m_count_y\u001b[49m\u001b[43m(\u001b[49m\u001b[38;5;28;43mself\u001b[39;49m\u001b[38;5;241;43m.\u001b[39;49m\u001b[43m_x\u001b[49m\u001b[43m,\u001b[49m\u001b[43m \u001b[49m\u001b[38;5;28;43mself\u001b[39;49m\u001b[38;5;241;43m.\u001b[39;49m\u001b[43m_z\u001b[49m\u001b[43m,\u001b[49m\u001b[43m \u001b[49m\u001b[43mdtype\u001b[49m\u001b[38;5;241;43m=\u001b[39;49m\u001b[43mdtype\u001b[49m\u001b[43m)\u001b[49m\n",
      "File \u001b[0;32m~/anaconda3/envs/book_chemistry/lib/python3.10/site-packages/qiskit/quantum_info/operators/symplectic/base_pauli.py:720\u001b[0m, in \u001b[0;36m_count_y\u001b[0;34m(x, z, dtype)\u001b[0m\n\u001b[1;32m    718\u001b[0m \u001b[38;5;28;01mdef\u001b[39;00m \u001b[38;5;21m_count_y\u001b[39m(x, z, dtype\u001b[38;5;241m=\u001b[39m\u001b[38;5;28;01mNone\u001b[39;00m):\n\u001b[1;32m    719\u001b[0m \u001b[38;5;250m    \u001b[39m\u001b[38;5;124;03m\"\"\"Count the number of I Paulis\"\"\"\u001b[39;00m\n\u001b[0;32m--> 720\u001b[0m     \u001b[38;5;28;01mreturn\u001b[39;00m \u001b[43m(\u001b[49m\u001b[43mx\u001b[49m\u001b[43m \u001b[49m\u001b[38;5;241;43m&\u001b[39;49m\u001b[43m \u001b[49m\u001b[43mz\u001b[49m\u001b[43m)\u001b[49m\u001b[38;5;241;43m.\u001b[39;49m\u001b[43msum\u001b[49m\u001b[43m(\u001b[49m\u001b[43maxis\u001b[49m\u001b[38;5;241;43m=\u001b[39;49m\u001b[38;5;241;43m1\u001b[39;49m\u001b[43m,\u001b[49m\u001b[43m \u001b[49m\u001b[43mdtype\u001b[49m\u001b[38;5;241;43m=\u001b[39;49m\u001b[43mdtype\u001b[49m\u001b[43m)\u001b[49m\n",
      "File \u001b[0;32m~/.local/lib/python3.10/site-packages/numpy/core/_methods.py:48\u001b[0m, in \u001b[0;36m_sum\u001b[0;34m(a, axis, dtype, out, keepdims, initial, where)\u001b[0m\n\u001b[1;32m     46\u001b[0m \u001b[38;5;28;01mdef\u001b[39;00m \u001b[38;5;21m_sum\u001b[39m(a, axis\u001b[38;5;241m=\u001b[39m\u001b[38;5;28;01mNone\u001b[39;00m, dtype\u001b[38;5;241m=\u001b[39m\u001b[38;5;28;01mNone\u001b[39;00m, out\u001b[38;5;241m=\u001b[39m\u001b[38;5;28;01mNone\u001b[39;00m, keepdims\u001b[38;5;241m=\u001b[39m\u001b[38;5;28;01mFalse\u001b[39;00m,\n\u001b[1;32m     47\u001b[0m          initial\u001b[38;5;241m=\u001b[39m_NoValue, where\u001b[38;5;241m=\u001b[39m\u001b[38;5;28;01mTrue\u001b[39;00m):\n\u001b[0;32m---> 48\u001b[0m     \u001b[38;5;28;01mreturn\u001b[39;00m \u001b[43mumr_sum\u001b[49m\u001b[43m(\u001b[49m\u001b[43ma\u001b[49m\u001b[43m,\u001b[49m\u001b[43m \u001b[49m\u001b[43maxis\u001b[49m\u001b[43m,\u001b[49m\u001b[43m \u001b[49m\u001b[43mdtype\u001b[49m\u001b[43m,\u001b[49m\u001b[43m \u001b[49m\u001b[43mout\u001b[49m\u001b[43m,\u001b[49m\u001b[43m \u001b[49m\u001b[43mkeepdims\u001b[49m\u001b[43m,\u001b[49m\u001b[43m \u001b[49m\u001b[43minitial\u001b[49m\u001b[43m,\u001b[49m\u001b[43m \u001b[49m\u001b[43mwhere\u001b[49m\u001b[43m)\u001b[49m\n",
      "\u001b[0;31mKeyboardInterrupt\u001b[0m: "
     ]
    }
   ],
   "source": [
    "#create ansatz initial\n",
    "ansatz_init = UCCSD(\n",
    "    num_spatial_orbitals,\n",
    "    num_particles,\n",
    "    mapper,\n",
    "    initial_state=HartreeFock(\n",
    "        num_spatial_orbitals,\n",
    "        num_particles,\n",
    "        mapper,\n",
    "    ),\n",
    ")"
   ]
  },
  {
   "cell_type": "code",
   "execution_count": 5,
   "id": "8cc55d9b",
   "metadata": {},
   "outputs": [
    {
     "name": "stdout",
     "output_type": "stream",
     "text": [
      "Reduced Particles and orbitals for MnCO2:  (10, 5)   13\n"
     ]
    }
   ],
   "source": [
    "# now you want to apply the freeze-core reduction\n",
    "transformer = FreezeCoreTransformer(freeze_core=True,\n",
    "                                    remove_orbitals=[-4,-3,-2, -1])\n",
    "\n",
    "reduced_problem = transformer.transform(problem)\n",
    "\n",
    "num_spatial_orbitals = reduced_problem.num_spatial_orbitals\n",
    "num_particles = reduced_problem.num_particles\n",
    "print(\"Reduced Particles and orbitals for MnCO2: \", num_particles, \" \", num_spatial_orbitals)\n",
    "\n",
    "#create ansatz freeze-core\n",
    "ansatz_freeze_core = UCCSD(\n",
    "    num_spatial_orbitals,\n",
    "    num_particles,\n",
    "    mapper,\n",
    "    initial_state=HartreeFock(\n",
    "        num_spatial_orbitals,\n",
    "        num_particles,\n",
    "        mapper,\n",
    "    ),\n",
    ")"
   ]
  },
  {
   "cell_type": "code",
   "execution_count": 6,
   "id": "1a6dde27",
   "metadata": {},
   "outputs": [
    {
     "name": "stdout",
     "output_type": "stream",
     "text": [
      "Active space reduced Particles and orbitals for MnCO2:  (5, 5)   5\n"
     ]
    }
   ],
   "source": [
    "# now lets adapt active space, more or less reducing to crap\n",
    "as_transformer = ActiveSpaceTransformer(num_electrons=problem.num_particles, num_spatial_orbitals=5)\n",
    "\n",
    "as_problem = as_transformer.transform(problem)\n",
    "num_spatial_orbitals = as_problem.num_spatial_orbitals\n",
    "num_particles = as_problem.num_particles\n",
    "print(\"Active space reduced Particles and orbitals for MnCO2: \", num_particles, \" \", num_spatial_orbitals)\n",
    "# optimize ansatz -> make HW-efficient\n",
    "ansatz_active_space = EfficientSU2(num_qubits=num_spatial_orbitals, reps=1, entanglement='linear', insert_barriers=True)\n",
    "init_state_active_space = np.random.random(ansatz_active_space.num_parameters*2)"
   ]
  },
  {
   "cell_type": "code",
   "execution_count": 7,
   "id": "9ad64ce3",
   "metadata": {},
   "outputs": [
    {
     "name": "stdout",
     "output_type": "stream",
     "text": [
      "FreezeCore ansatz depth = 1, num_qubits= 26\n",
      "Active space ansatz depth = 1, num_qubits= 5\n"
     ]
    }
   ],
   "source": [
    "#print(f\"Initial ansatz depth = {ansatz_init.depth()}, num_qubits= {ansatz_init.num_qubits}\")\n",
    "print(f\"FreezeCore ansatz depth = {ansatz_freeze_core.depth()}, num_qubits= {ansatz_freeze_core.num_qubits}\")\n",
    "print(f\"Active space ansatz depth = {ansatz_active_space.depth()}, num_qubits= {ansatz_active_space.num_qubits}\")"
   ]
  },
  {
   "cell_type": "code",
   "execution_count": 8,
   "id": "19059377",
   "metadata": {},
   "outputs": [],
   "source": [
    "#create problem by dist\n",
    "def create_problem(dist):\n",
    "    atom_str = \"Mn 0.0 0.0 0.0; O {0} 0.0, 0.0 C {1} 0.0 0.0 O {2} 0.0 0.0\".format(dist, dist+1.17, dist+2.34)\n",
    "    #print(atom_str)\n",
    "    driver = PySCFDriver(atom=atom_str, charge=2, spin=3, basis=\"sto-3g\")\n",
    "    problem = driver.run()\n",
    "    \n",
    "    #reduce problem\n",
    "    # now you want to apply the freeze-core reduction\n",
    "    as_transformer = ActiveSpaceTransformer(num_electrons=problem.num_particles, num_spatial_orbitals=5)\n",
    "    as_problem = as_transformer.transform(problem)\n",
    "\n",
    "    #transformer = FreezeCoreTransformer(freeze_core=True,\n",
    "    #                                    remove_orbitals=[-4,-3,-2, -1])\n",
    "    #\n",
    "    #reduced_problem = transformer.transform(problem)    \n",
    "    \n",
    "    return as_problem"
   ]
  },
  {
   "cell_type": "code",
   "execution_count": 9,
   "id": "ec4e40d2",
   "metadata": {},
   "outputs": [],
   "source": [
    "ansatz = ansatz_active_space\n",
    "init_state = init_state_active_space\n",
    "hw_efficient = True\n",
    "exact_solution = False"
   ]
  },
  {
   "cell_type": "code",
   "execution_count": 10,
   "id": "697db505",
   "metadata": {},
   "outputs": [],
   "source": [
    "# build vqe\n",
    "estimator = Estimator(run_options= {\"method\": \"statevector\"})\n",
    "vqe = VQE(estimator, ansatz, SLSQP(maxiter=100))"
   ]
  },
  {
   "cell_type": "code",
   "execution_count": 11,
   "id": "347fc274",
   "metadata": {},
   "outputs": [],
   "source": [
    "distances = np.arange(0.2, 1.5, 0.1)"
   ]
  },
  {
   "cell_type": "code",
   "execution_count": 12,
   "id": "3ff0beae",
   "metadata": {},
   "outputs": [],
   "source": [
    "exact_energies = []\n",
    "vqe_energies = []\n",
    "\n",
    "num_evals = 0\n",
    "\n",
    "np.random.seed(5)\n",
    "algorithm_globals.random_seed = 5"
   ]
  },
  {
   "cell_type": "code",
   "execution_count": 13,
   "id": "9e79af23",
   "metadata": {},
   "outputs": [
    {
     "name": "stdout",
     "output_type": "stream",
     "text": [
      "Dist: 0.20, Total vqe energy = -322.3789\n",
      "Dist: 0.30, Total vqe energy = -471.2996\n",
      "Dist: 0.40, Total vqe energy = -511.7488\n",
      "Dist: 0.50, Total vqe energy = -544.1550\n",
      "Dist: 0.60, Total vqe energy = -550.8144\n",
      "Dist: 0.70, Total vqe energy = -563.3243\n",
      "Dist: 0.80, Total vqe energy = -584.2991\n",
      "Dist: 0.90, Total vqe energy = -572.6656\n",
      "Dist: 1.00, Total vqe energy = -582.2544\n",
      "Dist: 1.10, Total vqe energy = -565.2977\n",
      "Dist: 1.20, Total vqe energy = -576.3658\n",
      "Dist: 1.30, Total vqe energy = -565.5454\n",
      "Dist: 1.40, Total vqe energy = -581.3188\n"
     ]
    }
   ],
   "source": [
    "for dist in distances:\n",
    "    problem = create_problem(dist)\n",
    "    \n",
    "    # set initialpoint to Harttreefock for problem\n",
    "    if hw_efficient == True:\n",
    "        vqe.initial_point = init_state\n",
    "    else:\n",
    "        initial_point = HFInitialPoint()\n",
    "        initial_point.ansatz = ansatz\n",
    "        initial_point.problem = problem\n",
    "        vqe.initial_point = initial_point.to_numpy_array()\n",
    "\n",
    "    # solve exact ?\n",
    "    if exact_solution == True:\n",
    "        algo = NumPyMinimumEigensolver()\n",
    "        algo.filter_criterion = problem.get_default_filter_criterion()\n",
    "\n",
    "        solver = GroundStateEigensolver(mapper, algo)\n",
    "        result = solver.solve(problem)\n",
    "        exact_energies.append(result.total_energies[0].real)\n",
    "        print(f\"Dist: {dist:.2f}, Total ground state energy = {result.total_energies[0]:.4f}\")\n",
    "    \n",
    "    # solve vqe\n",
    "    fermionic_op = problem.hamiltonian.second_q_op()  # Get fermionic_op\n",
    "    \n",
    "    qubit_op = mapper.map(fermionic_op)\n",
    "    vqe_calc = vqe.compute_minimum_eigenvalue(qubit_op)\n",
    "    num_evals += vqe_calc.cost_function_evals\n",
    "    vqe_result = problem.interpret(vqe_calc).total_energies[0].real\n",
    "    vqe_energies.append(vqe_result)\n",
    "    \n",
    "    print(f\"Dist: {dist:.2f}, Total vqe energy = {vqe_result:.4f}\")   "
   ]
  },
  {
   "cell_type": "code",
   "execution_count": 16,
   "id": "592a85bf",
   "metadata": {},
   "outputs": [
    {
     "data": {
      "image/png": "[encoded data removed]",
      "text/plain": [
       "<Figure size 640x480 with 1 Axes>"
      ]
     },
     "metadata": {},
     "output_type": "display_data"
    }
   ],
   "source": [
    "if exact_solution == True:\n",
    "    plt.plot(distances, exact_energies, label=\"Exact Energy\")\n",
    "plt.plot(distances, vqe_energies, label=\"VQE Energy\")\n",
    "plt.xlabel('Atomic distance (Angstrom)')\n",
    "plt.ylabel('Energy')\n",
    "plt.legend()\n",
    "plt.show()"
   ]
  },
  {
   "cell_type": "markdown",
   "id": "80e674ae",
   "metadata": {},
   "source": [
    "# Compare results"
   ]
  },
  {
   "cell_type": "markdown",
   "id": "7edd92e8",
   "metadata": {},
   "source": [
    "![PES_MnCO2.jpg](attachment:PES_MnCO2.jpg)\n",
    "\n",
    "From quantistry"
   ]
  },
  {
   "cell_type": "code",
   "execution_count": 15,
   "id": "41503276",
   "metadata": {},
   "outputs": [
    {
     "data": {
      "text/html": [
       "<h3>Version Information</h3><table><tr><th>Software</th><th>Version</th></tr><tr><td><code>qiskit</code></td><td>None</td></tr><tr><td><code>qiskit-terra</code></td><td>0.25.1</td></tr><tr><td><code>qiskit_ibm_provider</code></td><td>0.6.3</td></tr><tr><td><code>qiskit_nature</code></td><td>0.6.0</td></tr><tr><td><code>qiskit_aer</code></td><td>0.12.2</td></tr><tr><th colspan='2'>System information</th></tr><tr><td>Python version</td><td>3.10.9</td></tr><tr><td>Python compiler</td><td>GCC 11.2.0</td></tr><tr><td>Python build</td><td>main, Jan 11 2023 15:21:40</td></tr><tr><td>OS</td><td>Linux</td></tr><tr><td>CPUs</td><td>4</td></tr><tr><td>Memory (Gb)</td><td>3.8199195861816406</td></tr><tr><td colspan='2'>Wed Sep 06 06:33:35 2023 UTC</td></tr></table>"
      ],
      "text/plain": [
       "<IPython.core.display.HTML object>"
      ]
     },
     "metadata": {},
     "output_type": "display_data"
    },
    {
     "data": {
      "text/html": [
       "<div style='width: 100%; background-color:#d5d9e0;padding-left: 10px; padding-bottom: 10px; padding-right: 10px; padding-top: 5px'><h3>This code is a part of Qiskit</h3><p>&copy; Copyright IBM 2017, 2023.</p><p>This code is licensed under the Apache License, Version 2.0. You may<br>obtain a copy of this license in the LICENSE.txt file in the root directory<br> of this source tree or at http://www.apache.org/licenses/LICENSE-2.0.<p>Any modifications or derivative works of this code must retain this<br>copyright notice, and modified files need to carry a notice indicating<br>that they have been altered from the originals.</p></div>"
      ],
      "text/plain": [
       "<IPython.core.display.HTML object>"
      ]
     },
     "metadata": {},
     "output_type": "display_data"
    }
   ],
   "source": [
    "import qiskit.tools.jupyter\n",
    "\n",
    "%qiskit_version_table\n",
    "%qiskit_copyright"
   ]
  },
  {
   "cell_type": "code",
   "execution_count": null,
   "id": "95967a29",
   "metadata": {},
   "outputs": [],
   "source": []
  }
 ],
 "metadata": {
  "kernelspec": {
   "display_name": "Python 3 (ipykernel)",
   "language": "python",
   "name": "python3"
  },
  "language_info": {
   "codemirror_mode": {
    "name": "ipython",
    "version": 3
   },
   "file_extension": ".py",
   "mimetype": "text/x-python",
   "name": "python",
   "nbconvert_exporter": "python",
   "pygments_lexer": "ipython3",
   "version": "3.10.9"
  }
 },
 "nbformat": 4,
 "nbformat_minor": 5
}
