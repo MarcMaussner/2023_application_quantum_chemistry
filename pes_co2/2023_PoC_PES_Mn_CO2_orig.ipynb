{
 "cells": [
  {
   "cell_type": "code",
   "execution_count": 1,
   "id": "bb06fe61",
   "metadata": {
    "scrolled": true
   },
   "outputs": [
    {
     "name": "stderr",
     "output_type": "stream",
     "text": [
      "/tmp/ipykernel_3928/1033706341.py:2: NatureDeprecationWarning: The qiskit_nature.algorithms.excited_state_solvers package is deprecated as of version 0.5.0 and will be removed no sooner than 3 months after the release. Instead use the qiskit_nature.second_q.algorithms.excited_state_solvers package.\n",
      "  from qiskit_nature.algorithms import (GroundStateEigensolver, NumPyMinimumEigensolverFactory)\n",
      "/tmp/ipykernel_3928/1033706341.py:2: NatureDeprecationWarning: The qiskit_nature.algorithms.pes_sampler package is deprecated as of version 0.5.0 and will be removed no sooner than 3 months after the release . Please refer to 'https://github.com/Qiskit/qiskit-nature/issues/750' for additional information regarding 'extrapolators'.\n",
      "  from qiskit_nature.algorithms import (GroundStateEigensolver, NumPyMinimumEigensolverFactory)\n"
     ]
    }
   ],
   "source": [
    "from qiskit.algorithms import VQE\n",
    "from qiskit_nature.algorithms import (GroundStateEigensolver, NumPyMinimumEigensolverFactory)\n",
    "from qiskit_nature.drivers import Molecule\n",
    "from qiskit_nature.drivers.second_quantization import (ElectronicStructureMoleculeDriver, ElectronicStructureDriverType)\n",
    "from qiskit_nature.transformers.second_quantization.electronic import FreezeCoreTransformer\n",
    "from qiskit_nature.problems.second_quantization import ElectronicStructureProblem\n",
    "from qiskit_nature.converters.second_quantization import QubitConverter\n",
    "from qiskit_nature.mappers.second_quantization import ParityMapper\n",
    "from qiskit_nature.transformers.second_quantization.electronic import ActiveSpaceTransformer\n",
    "from qiskit.circuit.library import EfficientSU2\n",
    "\n",
    "# pylint: enable=line-too-long\n",
    "\n",
    "import matplotlib.pyplot as plt\n",
    "import numpy as np\n",
    "from qiskit_nature.circuit.library import UCCSD, HartreeFock\n",
    "from qiskit.circuit.library import EfficientSU2\n",
    "from qiskit.algorithms.optimizers import COBYLA, SPSA, SLSQP\n",
    "from qiskit.opflow import TwoQubitReduction\n",
    "from qiskit import BasicAer, Aer\n",
    "from qiskit.utils import QuantumInstance\n",
    "from qiskit.utils.mitigation import CompleteMeasFitter\n",
    "from qiskit.providers.aer.noise import NoiseModel\n",
    "\n",
    "#runtime\n",
    "from qiskit_ibm_runtime import QiskitRuntimeService, Estimator, Session\n",
    "\n",
    "from qiskit.utils import algorithm_globals"
   ]
  },
  {
   "cell_type": "code",
   "execution_count": 2,
   "id": "4adbc6b6",
   "metadata": {},
   "outputs": [],
   "source": [
    "def get_qubit_op(dist):\n",
    "    # Define Molecule\n",
    "    molecule = Molecule(\n",
    "        # Coordinates in Angstrom\n",
    "        geometry=[\n",
    "            [\"Mn\", [0.0, 0.0, 0.0]],\n",
    "            [\"O\", [dist, 0.0, 0.0]],\n",
    "            [\"C\", [dist + 1.17, 0.0, 0.0]],   \n",
    "            [\"O\", [dist + 2.34, 0.0, 0.0]]\n",
    "        ],\n",
    "        multiplicity=6,  # = 2*spin + 1\n",
    "        charge=2,\n",
    "    )\n",
    "\n",
    "    driver = ElectronicStructureMoleculeDriver(\n",
    "        molecule=molecule,\n",
    "        basis=\"sto3g\",\n",
    "        driver_type=ElectronicStructureDriverType.PYSCF)\n",
    "\n",
    "    # Get properties\n",
    "    properties = driver.run()\n",
    "    num_particles = (properties\n",
    "                        .get_property(\"ParticleNumber\")\n",
    "                        .num_particles)\n",
    "    num_spin_orbitals = int(properties\n",
    "                            .get_property(\"ParticleNumber\")\n",
    "                            .num_spin_orbitals)\n",
    "\n",
    "    \n",
    "    #transformer = ActiveSpaceTransformer(num_electrons=num_particles, num_molecular_orbitals=4)\n",
    "    \n",
    "    # Define Problem, Use freeze core approximation, remove orbitals.\n",
    "    problem = ElectronicStructureProblem(\n",
    "        driver,\n",
    "        [FreezeCoreTransformer(freeze_core=True,\n",
    "                               remove_orbitals=[-4,-3,-2])]\n",
    "    )\n",
    "    #problem = ElectronicStructureProblem(driver, [transformer])\n",
    "    #problem = ElectronicStructureProblem(driver)\n",
    "\n",
    "    second_q_ops = problem.second_q_ops()  # Get 2nd Quant OP\n",
    "    num_spin_orbitals = problem.num_spin_orbitals\n",
    "    num_particles = problem.num_particles\n",
    "\n",
    "    mapper = ParityMapper()  # Set Mapper\n",
    "    hamiltonian = second_q_ops[\"ElectronicEnergy\"]  # Set Hamiltonian\n",
    "    # Do two qubit reduction\n",
    "    converter = QubitConverter(mapper,two_qubit_reduction=True)\n",
    "    reducer = TwoQubitReduction(num_particles)\n",
    "    qubit_op = converter.convert(hamiltonian)\n",
    "    #print(\"after QubitConverter: \", qubit_op.num_qubits)\n",
    "    qubit_op = reducer.convert(qubit_op)\n",
    "    #print(\"after TwoQubitReduction: \", qubit_op.num_qubits)    \n",
    "\n",
    "    num_spin_orbitals = qubit_op.num_qubits\n",
    "    print(num_particles, \" \", num_spin_orbitals)\n",
    "    return qubit_op, num_particles, num_spin_orbitals, problem, converter"
   ]
  },
  {
   "cell_type": "code",
   "execution_count": 3,
   "id": "f6923654",
   "metadata": {},
   "outputs": [],
   "source": [
    "def exact_solver(problem, converter):\n",
    "    solver = NumPyMinimumEigensolverFactory()\n",
    "    calc = GroundStateEigensolver(converter, solver)\n",
    "    result = calc.solve(problem)\n",
    "    return result"
   ]
  },
  {
   "cell_type": "code",
   "execution_count": 4,
   "id": "8909a8e5",
   "metadata": {},
   "outputs": [],
   "source": [
    "# load Qiskit-account\n",
    "service = QiskitRuntimeService()"
   ]
  },
  {
   "cell_type": "code",
   "execution_count": 5,
   "id": "0ba596f1",
   "metadata": {},
   "outputs": [
    {
     "data": {
      "text/plain": [
       "[<IBMBackend('ibmq_qasm_simulator')>,\n",
       " <IBMBackend('ibmq_lima')>,\n",
       " <IBMBackend('ibmq_belem')>,\n",
       " <IBMBackend('ibmq_quito')>,\n",
       " <IBMBackend('simulator_statevector')>,\n",
       " <IBMBackend('simulator_mps')>,\n",
       " <IBMBackend('simulator_extended_stabilizer')>,\n",
       " <IBMBackend('simulator_stabilizer')>,\n",
       " <IBMBackend('ibmq_manila')>,\n",
       " <IBMBackend('ibm_nairobi')>,\n",
       " <IBMBackend('ibm_oslo')>,\n",
       " <IBMBackend('ibmq_jakarta')>,\n",
       " <IBMBackend('ibm_lagos')>,\n",
       " <IBMBackend('ibm_perth')>]"
      ]
     },
     "execution_count": 5,
     "metadata": {},
     "output_type": "execute_result"
    }
   ],
   "source": [
    "# check for available backends\n",
    "service.backends()"
   ]
  },
  {
   "cell_type": "code",
   "execution_count": 6,
   "id": "08da5a00",
   "metadata": {},
   "outputs": [],
   "source": [
    "# setup\n",
    "#backend = service.get_backend(\"simulator_statevector\")\n",
    "backend = BasicAer.get_backend(\"qasm_simulator\")\n",
    "distances = np.arange(0.2, 1.5, 0.1)\n",
    "exact_energies = []\n",
    "vqe_energies = []\n",
    "optimizer = SLSQP(maxiter=100)\n",
    "num_evals = 0\n",
    "\n",
    "np.random.seed(5)\n",
    "algorithm_globals.random_seed = 5"
   ]
  },
  {
   "cell_type": "code",
   "execution_count": null,
   "id": "875da371",
   "metadata": {
    "scrolled": true
   },
   "outputs": [],
   "source": [
    "%%time\n",
    "\n",
    "algorithm_globals.massive=True\n",
    "\n",
    "# pylint: disable=undefined-loop-variable\n",
    "for dist in distances:\n",
    "    (qubit_op, num_particles, num_spin_orbitals, problem, converter) = get_qubit_op(dist)\n",
    "    #result = exact_solver(problem, converter)\n",
    "    #exact_energies.append(result.total_energies[0].real)\n",
    "    #init_state = HartreeFock(num_spin_orbitals, num_particles, converter)\n",
    "    ansatz = EfficientSU2(num_qubits=num_spin_orbitals, reps=1, entanglement='linear', insert_barriers=True)\n",
    "    init_state = np.random.random(ansatz.num_parameters)\n",
    "    \n",
    "    #ansatz = UCCSD(converter, num_particles, num_spin_orbitals, initial_state=init_state)\n",
    "    vqe = VQE(ansatz, optimizer, quantum_instance=backend)\n",
    "    vqe_calc = vqe.compute_minimum_eigenvalue(qubit_op)\n",
    "    num_evals += vqe_calc.cost_function_evals\n",
    "    vqe_result = problem.interpret(vqe_calc).total_energies[0].real\n",
    "    vqe_energies.append(vqe_result)\n",
    "    #print(f\"Interatomic Distance: {np.round(dist, 2)}\",\n",
    "    #      f\"VQE Result: {vqe_result:.5f}\",\n",
    "    #      f\"Exact Energy: {exact_energies[-1]:.5f}\")\n",
    "    print(f\"Interatomic Distance: {np.round(dist, 2)}\",\n",
    "          f\"VQE Result: {vqe_result:.5f}\") \n",
    "\n",
    "print(\"All energies have been calculated\")"
   ]
  },
  {
   "cell_type": "code",
   "execution_count": null,
   "id": "592a85bf",
   "metadata": {},
   "outputs": [],
   "source": [
    "#plt.plot(distances, exact_energies, label=\"Exact Energy\")\n",
    "plt.plot(distances, vqe_energies, label=\"VQE Energy\")\n",
    "plt.xlabel('Atomic distance (Angstrom)')\n",
    "plt.ylabel('Energy')\n",
    "plt.legend()\n",
    "plt.show()"
   ]
  },
  {
   "cell_type": "markdown",
   "id": "80e674ae",
   "metadata": {},
   "source": [
    "# Compare results"
   ]
  },
  {
   "cell_type": "markdown",
   "id": "7edd92e8",
   "metadata": {},
   "source": [
    "![PES_MnCO2.jpg](attachment:PES_MnCO2.jpg)\n",
    "\n",
    "From quantistry"
   ]
  },
  {
   "cell_type": "code",
   "execution_count": null,
   "id": "bfaf5f55",
   "metadata": {},
   "outputs": [],
   "source": [
    "# print minimum energies\n",
    "energy_vqe_min = np.amin(vqe_energies)\n",
    "energy_exact_min = np.amin(exact_energies)\n",
    "print(energy_vqe_min)\n",
    "print(energy_exact_min)\n",
    "\n",
    "# get indices\n",
    "index_vqe = np.where(vqe_energies == energy_vqe_min)\n",
    "index_exact = np.where(exact_energies == energy_exact_min)\n",
    "\n",
    "# get distances\n",
    "dist_vqe = distances[index_vqe]\n",
    "dist_exact = distances[index_exact]\n",
    "\n",
    "print(dist_vqe)\n",
    "print(dist_exact)"
   ]
  },
  {
   "cell_type": "code",
   "execution_count": null,
   "id": "f6065b27",
   "metadata": {},
   "outputs": [],
   "source": [
    "ansatz.draw()"
   ]
  },
  {
   "cell_type": "code",
   "execution_count": null,
   "id": "dbfa0f33",
   "metadata": {},
   "outputs": [],
   "source": [
    "# print \n",
    "print(\"#Parameters of our ansatz: \", ansatz.num_parameters)\n",
    "print(\"#qubits of our ansatz: \", ansatz.num_qubits)\n",
    "print(\"#Particles: \", num_particles)\n",
    "print(\"#spin-orbitals: \", num_spin_orbitals)\n",
    "print(\"num_evals:\", num_evals)"
   ]
  },
  {
   "cell_type": "code",
   "execution_count": null,
   "id": "41503276",
   "metadata": {},
   "outputs": [],
   "source": [
    "import qiskit.tools.jupyter\n",
    "\n",
    "%qiskit_version_table\n",
    "%qiskit_copyright"
   ]
  }
 ],
 "metadata": {
  "kernelspec": {
   "display_name": "Python 3 (ipykernel)",
   "language": "python",
   "name": "python3"
  },
  "language_info": {
   "codemirror_mode": {
    "name": "ipython",
    "version": 3
   },
   "file_extension": ".py",
   "mimetype": "text/x-python",
   "name": "python",
   "nbconvert_exporter": "python",
   "pygments_lexer": "ipython3",
   "version": "3.10.9"
  }
 },
 "nbformat": 4,
 "nbformat_minor": 5
}
